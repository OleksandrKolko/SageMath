{
 "cells": [
  {
   "cell_type": "markdown",
   "id": "e2968a6b",
   "metadata": {},
   "source": [
    "# Вступне завдання на знайомство з базовим синтаксисом Sage\n",
    "\n",
    "Вітаю на першому завданні з Sage! У цьому зошиті ви виконаєте кілька невеликих завдань, щоб ознайомитися з базовим синтаксисом SageMath. Заповніть свій код у вказаних місцях. Не хвилюйтеся, якщо щось не вдастся з першого разу — ми вчимося!"
   ]
  },
  {
   "cell_type": "markdown",
   "id": "16bb88b3",
   "metadata": {},
   "source": [
    "---\n",
    "## Прості арифметичні операції\n",
    "\n",
    "- Додайте 25 і 17.\n",
    "- Помножте 7 на 9.\n",
    "- Поділіть 144 на 12."
   ]
  },
  {
   "cell_type": "code",
   "execution_count": 1,
   "id": "82c3879d",
   "metadata": {},
   "outputs": [
    {
     "data": {
      "text/plain": [
       "42"
      ]
     },
     "execution_count": 1,
     "metadata": {},
     "output_type": "execute_result"
    }
   ],
   "source": [
    "25 + 17"
   ]
  },
  {
   "cell_type": "code",
   "execution_count": 2,
   "id": "4ab7c377",
   "metadata": {},
   "outputs": [
    {
     "data": {
      "text/plain": [
       "63"
      ]
     },
     "execution_count": 2,
     "metadata": {},
     "output_type": "execute_result"
    }
   ],
   "source": [
    "7 * 9"
   ]
  },
  {
   "cell_type": "code",
   "execution_count": 3,
   "id": "08ae7168",
   "metadata": {},
   "outputs": [
    {
     "data": {
      "text/plain": [
       "72"
      ]
     },
     "execution_count": 3,
     "metadata": {},
     "output_type": "execute_result"
    }
   ],
   "source": [
    "144 / 2"
   ]
  },
  {
   "cell_type": "markdown",
   "id": "e77d63d9",
   "metadata": {},
   "source": [
    "---\n",
    "## Цілочисельні операції\n",
    "\n",
    "- Знайдіть залишок від ділення 156 на 7 \n",
    "- Поділіть 156 націло на 7\n",
    "- Розкладіть число 2024 на множники"
   ]
  },
  {
   "cell_type": "code",
   "execution_count": 4,
   "id": "2f15aedc",
   "metadata": {},
   "outputs": [
    {
     "data": {
      "text/plain": [
       "2"
      ]
     },
     "execution_count": 4,
     "metadata": {},
     "output_type": "execute_result"
    }
   ],
   "source": [
    "156 % 7"
   ]
  },
  {
   "cell_type": "code",
   "execution_count": 5,
   "id": "c49d480c",
   "metadata": {},
   "outputs": [
    {
     "data": {
      "text/plain": [
       "22"
      ]
     },
     "execution_count": 5,
     "metadata": {},
     "output_type": "execute_result"
    }
   ],
   "source": [
    "156 // 7"
   ]
  },
  {
   "cell_type": "code",
   "execution_count": 6,
   "id": "a82fe7f9-9f87-4616-a42c-ca7395a8b2dc",
   "metadata": {},
   "outputs": [
    {
     "data": {
      "text/plain": [
       "2^3 * 11 * 23"
      ]
     },
     "execution_count": 6,
     "metadata": {},
     "output_type": "execute_result"
    }
   ],
   "source": [
    "factor(2024)"
   ]
  },
  {
   "cell_type": "markdown",
   "id": "00e6d090",
   "metadata": {},
   "source": [
    "---\n",
    "\n",
    "## Степені та корені\n",
    "- Обчисліть $ 5^3 $.\n",
    "- Знайдіть квадратний корінь з 49."
   ]
  },
  {
   "cell_type": "code",
   "execution_count": 7,
   "id": "79344055",
   "metadata": {},
   "outputs": [
    {
     "data": {
      "text/plain": [
       "125"
      ]
     },
     "execution_count": 7,
     "metadata": {},
     "output_type": "execute_result"
    }
   ],
   "source": [
    "5^3"
   ]
  },
  {
   "cell_type": "code",
   "execution_count": 9,
   "id": "8cee8b7c",
   "metadata": {},
   "outputs": [
    {
     "data": {
      "text/plain": [
       "7"
      ]
     },
     "execution_count": 9,
     "metadata": {},
     "output_type": "execute_result"
    }
   ],
   "source": [
    "49^(1/2)"
   ]
  },
  {
   "cell_type": "markdown",
   "id": "9d63f06d",
   "metadata": {},
   "source": [
    "---\n",
    "\n",
    "## Стандартні функції\n",
    "\n",
    "Обчисліть як точно, так і наближено:\n",
    "- $\\cos 0$\n",
    "- $\\sin \\pi$\n",
    "- $\\exp(2)$\n",
    "- $\\tan \\frac\\pi4$\n",
    "- $\\arcsin 1$\n"
   ]
  },
  {
   "cell_type": "code",
   "execution_count": 16,
   "id": "de4fd035-52e2-46c3-95cb-f61a5a19b579",
   "metadata": {},
   "outputs": [
    {
     "data": {
      "text/plain": [
       "1.000000000"
      ]
     },
     "execution_count": 16,
     "metadata": {},
     "output_type": "execute_result"
    }
   ],
   "source": [
    "#Точно\n",
    "cos(0).n(digits = 10)"
   ]
  },
  {
   "cell_type": "code",
   "execution_count": 18,
   "id": "d6b3355a",
   "metadata": {},
   "outputs": [
    {
     "data": {
      "text/plain": [
       "0"
      ]
     },
     "execution_count": 18,
     "metadata": {},
     "output_type": "execute_result"
    }
   ],
   "source": [
    "#Наближено\n",
    "sin(pi)"
   ]
  },
  {
   "cell_type": "code",
   "execution_count": 22,
   "id": "011ddc7b",
   "metadata": {},
   "outputs": [
    {
     "data": {
      "text/plain": [
       "7.389056099"
      ]
     },
     "execution_count": 22,
     "metadata": {},
     "output_type": "execute_result"
    }
   ],
   "source": [
    "#Точно\n",
    "exp(2).n(digits = 10)"
   ]
  },
  {
   "cell_type": "code",
   "execution_count": 23,
   "id": "29d9a793",
   "metadata": {},
   "outputs": [
    {
     "data": {
      "text/plain": [
       "1"
      ]
     },
     "execution_count": 23,
     "metadata": {},
     "output_type": "execute_result"
    }
   ],
   "source": [
    "tan(pi/ 4)"
   ]
  },
  {
   "cell_type": "code",
   "execution_count": 24,
   "id": "a02355d8",
   "metadata": {},
   "outputs": [
    {
     "data": {
      "text/plain": [
       "1/2*pi"
      ]
     },
     "execution_count": 24,
     "metadata": {},
     "output_type": "execute_result"
    }
   ],
   "source": [
    "arcsin(1)"
   ]
  },
  {
   "cell_type": "markdown",
   "id": "b2f30eb3-2258-4c15-8324-8944783be98b",
   "metadata": {},
   "source": [
    "---\n",
    "\n",
    "## Змінні\n",
    "Оголосіть змінні `x` та `y`, де `x = 10` та `y = 15`. Обчисліть їх суму та добуток."
   ]
  },
  {
   "cell_type": "code",
   "execution_count": 32,
   "id": "d707811d",
   "metadata": {},
   "outputs": [
    {
     "data": {
      "text/plain": [
       "(x, y)"
      ]
     },
     "execution_count": 32,
     "metadata": {},
     "output_type": "execute_result"
    }
   ],
   "source": [
    "var('x y')"
   ]
  },
  {
   "cell_type": "code",
   "execution_count": 30,
   "id": "fbdae0a2",
   "metadata": {},
   "outputs": [
    {
     "name": "stdout",
     "output_type": "stream",
     "text": [
      "25\n",
      "150\n"
     ]
    }
   ],
   "source": [
    "x = 10\n",
    "y = 15\n",
    "print(x + y)\n",
    "print(y * x)"
   ]
  },
  {
   "cell_type": "markdown",
   "id": "d80be4cd",
   "metadata": {},
   "source": [
    "---\n",
    "\n",
    "## Символьні вирази\n",
    "Оголосіть символьну змінну `z` та обчисліть вираз $ 3z^2 + 2z - 5 $."
   ]
  },
  {
   "cell_type": "code",
   "execution_count": 40,
   "id": "bb40f4a8",
   "metadata": {},
   "outputs": [
    {
     "data": {
      "text/plain": [
       "11"
      ]
     },
     "execution_count": 40,
     "metadata": {},
     "output_type": "execute_result"
    }
   ],
   "source": [
    "var('z')\n",
    "exp = 3*z^2 + 2*z - 5\n",
    "exp(z = 2)"
   ]
  },
  {
   "cell_type": "markdown",
   "id": "2d48e3c5",
   "metadata": {},
   "source": [
    "---\n",
    "\n",
    "## Спрощення виразів\n",
    "\n",
    "Спростіть вираз: $ 2x^2 + 4x - 2x^2 + x $."
   ]
  },
  {
   "cell_type": "code",
   "execution_count": 42,
   "id": "1f125031",
   "metadata": {},
   "outputs": [
    {
     "data": {
      "text/plain": [
       "5*x"
      ]
     },
     "execution_count": 42,
     "metadata": {},
     "output_type": "execute_result"
    }
   ],
   "source": [
    "exp = 2*x^2 + 4*x - 2*x^2 + x\n",
    "exp.simplify()"
   ]
  },
  {
   "cell_type": "markdown",
   "id": "04dede92",
   "metadata": {},
   "source": [
    "---\n",
    "\n",
    "## Розкриття дужок\n",
    "\n",
    "Розкрийте дужки для виразу $ (x + 2)(x - 3) $."
   ]
  },
  {
   "cell_type": "code",
   "execution_count": 46,
   "id": "5897fb78",
   "metadata": {},
   "outputs": [
    {
     "data": {
      "text/plain": [
       "x^2 - x - 6"
      ]
     },
     "execution_count": 46,
     "metadata": {},
     "output_type": "execute_result"
    }
   ],
   "source": [
    "exp = (x + 2) * (x - 3)\n",
    "exp.expand()"
   ]
  },
  {
   "cell_type": "markdown",
   "id": "2a39fa06",
   "metadata": {},
   "source": [
    "---\n",
    "\n",
    "## Факторизація\n",
    "Розкладіть на найпростіші множники квадратний тричлен $ x^2 - 9x + 20 $."
   ]
  },
  {
   "cell_type": "code",
   "execution_count": 48,
   "id": "f720ef67",
   "metadata": {},
   "outputs": [
    {
     "data": {
      "text/plain": [
       "(x - 4)*(x - 5)"
      ]
     },
     "execution_count": 48,
     "metadata": {},
     "output_type": "execute_result"
    }
   ],
   "source": [
    "exp = x^2 - 9*x + 20\n",
    "exp.factor()"
   ]
  },
  {
   "cell_type": "markdown",
   "id": "5e80e95e",
   "metadata": {},
   "source": [
    "---\n",
    "\n",
    "## Розв'язування рівнянь\n",
    "Розв'яжіть рівняння $ x^2 - 4x + 3 = 0 $."
   ]
  },
  {
   "cell_type": "code",
   "execution_count": 51,
   "id": "6ba9ca06",
   "metadata": {},
   "outputs": [
    {
     "data": {
      "text/plain": [
       "[x == 3, x == 1]"
      ]
     },
     "execution_count": 51,
     "metadata": {},
     "output_type": "execute_result"
    }
   ],
   "source": [
    "solve(x^2 - 4*x + 3 == 0, x)"
   ]
  },
  {
   "cell_type": "markdown",
   "id": "d81e6b69",
   "metadata": {},
   "source": [
    "---\n",
    "\n",
    "## Графік функції\n",
    "Побудуйте графік функції $ f(x) = x^2 - 4x + 3 $ у діапазоні $ x = [-5, 5] $."
   ]
  },
  {
   "cell_type": "code",
   "execution_count": 54,
   "id": "c8c388b5",
   "metadata": {},
   "outputs": [
    {
     "data": {
      "image/png": "[encoded data removed]",
      "text/plain": [
       "Graphics object consisting of 1 graphics primitive"
      ]
     },
     "execution_count": 54,
     "metadata": {},
     "output_type": "execute_result"
    }
   ],
   "source": [
    "plot(x^2 - 4*x + 3, (x, -5, 5))"
   ]
  },
  {
   "cell_type": "markdown",
   "id": "bfe6ff9e",
   "metadata": {},
   "source": [
    "---\n",
    "\n",
    "## Похідна\n",
    "Знайдіть похідну функції $ f(x) = x^3 + 5x^2 - 2x + 7 $."
   ]
  },
  {
   "cell_type": "code",
   "execution_count": 58,
   "id": "19f405aa",
   "metadata": {},
   "outputs": [
    {
     "data": {
      "text/plain": [
       "3*x^2 + 10*x - 2"
      ]
     },
     "execution_count": 58,
     "metadata": {},
     "output_type": "execute_result"
    }
   ],
   "source": [
    "diff(x^3 + 5*x^2 - 2*x + 7, x)"
   ]
  },
  {
   "cell_type": "markdown",
   "id": "f3c97713",
   "metadata": {},
   "source": [
    "---\n",
    "\n",
    "## Первісна\n",
    "Знайдіть невизначений інтеграл від функції $ f(x) = 2x^3 - x^2 + 5 $."
   ]
  },
  {
   "cell_type": "code",
   "execution_count": 57,
   "id": "fbacc613",
   "metadata": {},
   "outputs": [
    {
     "data": {
      "text/plain": [
       "1/2*x^4 - 1/3*x^3 + 5*x"
      ]
     },
     "execution_count": 57,
     "metadata": {},
     "output_type": "execute_result"
    }
   ],
   "source": [
    "integral(2*x^3 - x^2 + 5, x)"
   ]
  },
  {
   "cell_type": "markdown",
   "id": "93dad69b",
   "metadata": {},
   "source": [
    "---\n",
    "\n",
    "## Визначений інтеграл\n",
    "Проінтегруйте функцію $ f(x) = x^2 $ від $ x = 1 $ до $ x = 4 $."
   ]
  },
  {
   "cell_type": "code",
   "execution_count": 59,
   "id": "97af5af9",
   "metadata": {},
   "outputs": [
    {
     "data": {
      "text/plain": [
       "21"
      ]
     },
     "execution_count": 59,
     "metadata": {},
     "output_type": "execute_result"
    }
   ],
   "source": [
    "integral(x^2, x, 1, 4)"
   ]
  },
  {
   "cell_type": "markdown",
   "id": "9750aabe",
   "metadata": {},
   "source": [
    "---\n",
    "\n",
    "## Матриці\n",
    "Створіть матрицю розміру $2\\times 2$ з елементами: 1, 2, 3, 4. Виведіть матрицю на екран."
   ]
  },
  {
   "cell_type": "code",
   "execution_count": 61,
   "id": "d8e0c9f0",
   "metadata": {},
   "outputs": [
    {
     "data": {
      "text/plain": [
       "[1 2]\n",
       "[3 4]"
      ]
     },
     "execution_count": 61,
     "metadata": {},
     "output_type": "execute_result"
    }
   ],
   "source": [
    "A = Matrix([\n",
    "    [1, 2],\n",
    "    [3 ,4]\n",
    "])\n",
    "A"
   ]
  },
  {
   "cell_type": "markdown",
   "id": "45a03451",
   "metadata": {},
   "source": [
    "---\n",
    "\n",
    "## Операції з матрицями\n",
    "Для матриці $ A = \\begin{bmatrix} 1 & 2 \\\\ 3 & 4 \\end{bmatrix} $ обчисліть:\n",
    "- Транспоновану матрицю `A`.\n",
    "- Визначник матриці `A`."
   ]
  },
  {
   "cell_type": "code",
   "execution_count": 62,
   "id": "07151b1f",
   "metadata": {},
   "outputs": [
    {
     "data": {
      "text/plain": [
       "[  -2    1]\n",
       "[ 3/2 -1/2]"
      ]
     },
     "execution_count": 62,
     "metadata": {},
     "output_type": "execute_result"
    }
   ],
   "source": [
    "A = Matrix([\n",
    "    [1, 2],\n",
    "    [3 ,4]\n",
    "])\n",
    "A.inverse()"
   ]
  },
  {
   "cell_type": "code",
   "execution_count": 63,
   "id": "19942eeb-6119-4e47-965a-d69ad0baa5bc",
   "metadata": {},
   "outputs": [
    {
     "data": {
      "text/plain": [
       "[1 3]\n",
       "[2 4]"
      ]
     },
     "execution_count": 63,
     "metadata": {},
     "output_type": "execute_result"
    }
   ],
   "source": [
    "A.transpose()"
   ]
  },
  {
   "cell_type": "markdown",
   "id": "b42edc4e",
   "metadata": {},
   "source": [
    "---\n",
    "\n",
    "## Власні значення\n",
    "Знайдіть власні значення матриці $ A = \\begin{bmatrix} 1 & 2 \\\\ 2 & 3 \\end{bmatrix} $."
   ]
  },
  {
   "cell_type": "code",
   "execution_count": 65,
   "id": "06cc7e71",
   "metadata": {},
   "outputs": [
    {
     "data": {
      "text/plain": [
       "[-0.3722813232690144?, 5.372281323269015?]"
      ]
     },
     "execution_count": 65,
     "metadata": {},
     "output_type": "execute_result"
    }
   ],
   "source": [
    "A.eigenvalues()"
   ]
  },
  {
   "cell_type": "markdown",
   "id": "3b38c48b",
   "metadata": {},
   "source": [
    "---\n",
    "\n",
    "## Системи рівнянь\n",
    "Розв'яжіть систему рівнянь:\n",
    "\\begin{align*}\n",
    "x + y &= 3 \\\\\n",
    "2x - y &= 0\n",
    "\\end{align*}"
   ]
  },
  {
   "cell_type": "code",
   "execution_count": 67,
   "id": "eeb2a9a8",
   "metadata": {},
   "outputs": [
    {
     "data": {
      "text/plain": [
       "[[x == 0, y == 0]]"
      ]
     },
     "execution_count": 67,
     "metadata": {},
     "output_type": "execute_result"
    }
   ],
   "source": [
    "var('x y')\n",
    "eq1 = x + 3 == 3\n",
    "eq2 = 2*x - y == 0\n",
    "\n",
    "solve([eq1, eq2], x, y)"
   ]
  },
  {
   "cell_type": "markdown",
   "id": "a43d2b7f",
   "metadata": {},
   "source": [
    "---\n",
    "\n",
    "## Умовні оператори\n",
    "Напишіть умовний оператор, який перевіряє, чи є число `n` додатним, від'ємним або рівним нулю."
   ]
  },
  {
   "cell_type": "code",
   "execution_count": 71,
   "id": "e90ef4f6",
   "metadata": {},
   "outputs": [
    {
     "name": "stdin",
     "output_type": "stream",
     "text": [
      " -13\n"
     ]
    },
    {
     "name": "stdout",
     "output_type": "stream",
     "text": [
      "від'ємне\n"
     ]
    }
   ],
   "source": [
    "n = int(input())\n",
    "if n < 0:\n",
    "    print(\"від'ємне\")\n",
    "elif n == 0:\n",
    "    print(\"рівне 0\")\n",
    "elif n > 0:\n",
    "    print(\"Додатнє\")"
   ]
  },
  {
   "cell_type": "markdown",
   "id": "4d8fdfe0",
   "metadata": {},
   "source": [
    "---\n",
    "\n",
    "## Цикли\n",
    "Напишіть цикл, який виводить числа від 1 до 10."
   ]
  },
  {
   "cell_type": "code",
   "execution_count": 72,
   "id": "c7b5607d",
   "metadata": {},
   "outputs": [
    {
     "name": "stdout",
     "output_type": "stream",
     "text": [
      "1\n",
      "2\n",
      "3\n",
      "4\n",
      "5\n",
      "6\n",
      "7\n",
      "8\n",
      "9\n",
      "10\n"
     ]
    }
   ],
   "source": [
    "for i in range(1, 11):\n",
    "    print(i)"
   ]
  },
  {
   "cell_type": "markdown",
   "id": "62c726e7",
   "metadata": {},
   "source": [
    "---\n",
    "\n",
    "## Оголошення функцій\n",
    "Оголосіть функцію `f(x)`, яка повертає $ 3x^2 - 2x + 1 $. Потім обчисліть `f(5)`."
   ]
  },
  {
   "cell_type": "code",
   "execution_count": 73,
   "id": "bf319cff",
   "metadata": {},
   "outputs": [
    {
     "data": {
      "text/plain": [
       "66"
      ]
     },
     "execution_count": 73,
     "metadata": {},
     "output_type": "execute_result"
    }
   ],
   "source": [
    "def f(x):\n",
    "    return 3*x^2 - 2*x + 1\n",
    "f(5)"
   ]
  },
  {
   "cell_type": "markdown",
   "id": "955c86cd",
   "metadata": {},
   "source": [
    "---\n",
    "\n",
    "## Графіки декількох функцій\n",
    "Побудуйте графіки $ f(x) = x^2 $ та $ g(x) = -x^2 + 5 $ на одній площині у діапазоні $ x = [-3, 3] $."
   ]
  },
  {
   "cell_type": "code",
   "execution_count": 76,
   "id": "cdf31d02",
   "metadata": {},
   "outputs": [
    {
     "data": {
      "image/png": "[encoded data removed]",
      "text/plain": [
       "Graphics object consisting of 2 graphics primitives"
      ]
     },
     "execution_count": 76,
     "metadata": {},
     "output_type": "execute_result"
    }
   ],
   "source": [
    "f1 = x^2\n",
    "f2 = -1*x^2 + 5\n",
    "plot([f1, f2], (x, -3, 3))"
   ]
  }
 ],
 "metadata": {
  "kernelspec": {
   "display_name": "SageMath 10.4",
   "language": "sage",
   "name": "sagemath"
  },
  "language_info": {
   "codemirror_mode": {
    "name": "ipython",
    "version": 3
   },
   "file_extension": ".py",
   "mimetype": "text/x-python",
   "name": "python",
   "nbconvert_exporter": "python",
   "pygments_lexer": "ipython3",
   "version": "3.11.10"
  }
 },
 "nbformat": 4,
 "nbformat_minor": 5
}
