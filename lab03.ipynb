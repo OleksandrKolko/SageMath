{
 "cells": [
  {
   "cell_type": "code",
   "execution_count": 4,
   "id": "8411013e-cb5f-4276-9113-e0bf1a966b4f",
   "metadata": {},
   "outputs": [],
   "source": [
    "from sage.arith.functions import LCM_list\n",
    "from sage.matrix.operation_table import OperationTable\n",
    "from math import factorial"
   ]
  },
  {
   "cell_type": "markdown",
   "id": "088d0c68-43d4-421c-bdda-91b406d863ba",
   "metadata": {},
   "source": [
    "# Лабораторна робота 3. Групи, порядок елемента в групі\n",
    "\n",
    "_Примітка_: наведений код є лише одним з можливих шаблонів виконання. Можете писати по-своєму, але розділяйте свій код на функції, щоб їх можна було простіше перевіряти.\n",
    "\n",
    "## Завдання 1. \n",
    "\n",
    "__Задайте групи $D_{10}$, $Z_{16}$, $A_5$, $SL(2, \\mathbb{Z}_3)$*. Для кожної з них виведіть таблицю Келі, знайдіть порядок групи, перевірте чи група абелева. Перевірте чи будуть ізоморфними групи $SL(2, Z_3)$ та $D_{12}$.__\n",
    "\n",
    "*: група матриць 2х2 з визначником 1 над полем $\\mathbb{Z}_3$"
   ]
  },
  {
   "cell_type": "code",
   "execution_count": 5,
   "id": "f1fafc07-df08-4cac-acff-2adbc08e13f5",
   "metadata": {},
   "outputs": [],
   "source": [
    "def is_abelian(group):\n",
    "    is_abelian = True\n",
    "    for i in group:\n",
    "        for j in group:\n",
    "            if i == j:\n",
    "                pass\n",
    "            else:\n",
    "                if i * j != j * i:\n",
    "                    is_abelian = False\n",
    "                    break\n",
    "    return is_abelian\n",
    "\n",
    "D = DihedralGroup(10)\n",
    "Z = CyclicPermutationGroup(16)\n",
    "A = AlternatingGroup(5)\n",
    "Sl = SL(2, Integers(3))\n",
    "\n",
    "groups = [D, Z, A, Sl]\n",
    "with open('lab3_1.txt', 'w') as file:\n",
    "    for group in groups: \n",
    "        file.write(f\"{group}\\n\")\n",
    "        file.write(f\"{group.cayley_table()}\\n\")\n",
    "        file.write(f\"Order of the group is {group.cardinality()}\\n\")\n",
    "        file.write(f\"Is abelian : {is_abelian(group)}\\n\")\n",
    "        file.write(\"\\n\")\n",
    "    file.write(f\"Group Sl(2, Z3) is isomorphic to D16 : {Sl.is_isomorphic(D)}\")"
   ]
  },
  {
   "cell_type": "markdown",
   "id": "101bece3-af83-4515-ba1a-e2d825b15a8d",
   "metadata": {},
   "source": [
    "## Завдання 2. \n",
    "\n",
    "__Знайдіть к-ть елементів кожного можливого порядку в групах $S_{100}$ та $A_{100}$.__\n",
    "\n",
    "-----\n",
    "___Зауваження___: вивід буде великий, збережіть його в окремий текстовий файл\n",
    "\n",
    "___Зауваження 2___: оцініть спершу к-ть елементів в групі, а потім ще раз подумайте чи варто тут писати повний перебір"
   ]
  },
  {
   "cell_type": "code",
   "execution_count": 7,
   "id": "c5866f5d-ba29-40b9-af38-a4e93198f68d",
   "metadata": {},
   "outputs": [],
   "source": [
    "def gcd(n, m):\n",
    "    if m==0:\n",
    "        return n\n",
    "    else:\n",
    "        return gcd(m, n % m)\n",
    "\n",
    "def lcm(a, b):\n",
    "    return abs(a * b) // gcd(a, b)\n",
    "\n",
    "def lcm_list(numbers):\n",
    "    if not numbers:\n",
    "        return None  \n",
    "    result = numbers[0]\n",
    "    for num in numbers[1:]:\n",
    "        result = lcm(result, num)\n",
    "    return result\n",
    "\n",
    "def elems_num(permutations, n):\n",
    "    result = factorial(n)  \n",
    "    remainder = n\n",
    "    cycle_counts = {}\n",
    "    \n",
    "    for ni in permutations:\n",
    "        if ni in cycle_counts:\n",
    "            cycle_counts[ni] += 1\n",
    "        else:\n",
    "            cycle_counts[ni] = 1\n",
    "\n",
    "    for ni, count in cycle_counts.items():\n",
    "        result /= (ni ** count)  # Ділимо на ni^m_i\n",
    "        result /= factorial(count)  # Ділимо на m_i!\n",
    "    \n",
    "    return int(result)\n",
    "    \n",
    "def get_permutations(file_name):\n",
    "    file_count = 1\n",
    "    permutations = []\n",
    "    for i in range(1, file_count + 1):\n",
    "        with open(f\"{file_name}_{i}.txt\", 'r') as file:\n",
    "            for line in file:\n",
    "                permutations.append([int(el) for el in line.split()])\n",
    "    return permutations\n",
    "    \n",
    "permutations = get_permutations(\"integers_partitions_100\")\n",
    "\n",
    "orders = {}\n",
    "for permutation in permutations:\n",
    "    if lcm_list(permutation) not in orders:\n",
    "        orders[lcm_list(permutation)] = elems_num(permutation, 100)\n",
    "    else:\n",
    "        orders[lcm_list(permutation)] += elems_num(permutation, 100)\n",
    "        \n",
    "with open(\"orders.txt\", 'w') as file:\n",
    "    for order, num in orders.items():\n",
    "        file.write(f\"Order = {order}; Elements: {num}\\n\")"
   ]
  },
  {
   "cell_type": "markdown",
   "id": "aa1ddcec-2a21-46d5-80be-ff32c79d7de8",
   "metadata": {},
   "source": [
    "## Завдання 3. \n",
    "___Для заданих натуральних $n, k$ ($1 <= n \\le 1 000 000, 1 \\le k \\le n!$) визначте чи існує в групі $S_n$ елемент порядку $k$.___\n",
    "\n",
    "----------\n",
    "\n",
    "___Зауваження:___ зверніть увагу на межі, в яких задано $n, k$. "
   ]
  },
  {
   "cell_type": "code",
   "execution_count": 10,
   "id": "4a04b16b-4a63-4a64-902b-f07148aad1f7",
   "metadata": {},
   "outputs": [
    {
     "name": "stdin",
     "output_type": "stream",
     "text": [
      " 100\n",
      " 40000000\n"
     ]
    },
    {
     "name": "stdout",
     "output_type": "stream",
     "text": [
      "False\n"
     ]
    }
   ],
   "source": [
    "def has_order(n, k):\n",
    "    # Якщо k = 1, то n має достатній порядок, якщо n >= 1\n",
    "    if k == 1:\n",
    "        return n >= 1\n",
    "    factors = factor(k)\n",
    "    sum_powers = sum(p ** e for p, e in factors)\n",
    "    return sum_powers <= n\n",
    "\n",
    "n = int(input())\n",
    "k = int(input())\n",
    "print(has_order(n ,k))"
   ]
  }
 ],
 "metadata": {
  "kernelspec": {
   "display_name": "SageMath 10.4",
   "language": "sage",
   "name": "sagemath"
  },
  "language_info": {
   "codemirror_mode": {
    "name": "ipython",
    "version": 3
   },
   "file_extension": ".py",
   "mimetype": "text/x-python",
   "name": "python",
   "nbconvert_exporter": "python",
   "pygments_lexer": "ipython3",
   "version": "3.11.10"
  }
 },
 "nbformat": 4,
 "nbformat_minor": 5
}
