{
 "cells": [
  {
   "cell_type": "markdown",
   "id": "240177b2-c857-437b-9695-b2f6cdb7de5d",
   "metadata": {},
   "source": [
    "# Лабораторна робота 4. Підгрупи, системи твірних\n",
    "\n",
    "\n",
    "_Примітка_: наведений код є лише одним з можливих шаблонів виконання. Можете писати по-своєму, але розділяйте свій код на функції, щоб їх можна було простіше перевіряти.\n",
    "\n",
    "## Завдання 1. \n",
    "\n",
    "__Знайдіть усі незвідні системи твірних групи $S_4$.__"
   ]
  },
  {
   "cell_type": "code",
   "execution_count": 67,
   "id": "48c12298-55e9-4d0f-89c5-bdd276410db8",
   "metadata": {},
   "outputs": [],
   "source": [
    "from itertools import combinations\n",
    "def all_irr_groups(group):\n",
    "    irr_groups = []\n",
    "    all_elements = list(group)\n",
    "\n",
    "    for r in range(2, 4):\n",
    "        for subset in combinations(all_elements, r):\n",
    "            subgroup = group.subgroup(subset)\n",
    "            if subgroup == group:\n",
    "                is_minimal = True\n",
    "                for irr_subgroup in irr_groups:\n",
    "                    if set(irr_subgroup.gens()).issubset(subset):\n",
    "                        is_minimal = False\n",
    "                        break\n",
    "                \n",
    "                if is_minimal:\n",
    "                    irr_groups.append(subgroup)\n",
    "    \n",
    "    return irr_groups\n",
    "S = SymmetricGroup(4)\n",
    "irr_groups = all_irr_groups(S)\n",
    "with open(\"Irreducible_group_S4\", 'w') as file:\n",
    "    for sub in irr_groups:\n",
    "        file.write(f'{sub};\\n')"
   ]
  },
  {
   "cell_type": "markdown",
   "id": "bb9f5726-dd3b-48e0-85be-d725af835ce2",
   "metadata": {},
   "source": [
    "## Завдання 2. \n",
    "\n",
    "__Знайдіть усі підгрупи груп $S_4, A_4, S_5, A_5$.__"
   ]
  },
  {
   "cell_type": "code",
   "execution_count": 68,
   "id": "600b817c-bfd5-449c-8c18-67848ccb4403",
   "metadata": {},
   "outputs": [],
   "source": [
    "def save_subgroups_to_file(groups, group_name):\n",
    "    with open(f\"{group_name}_subgroups.txt\", 'w') as file:\n",
    "        for sub in groups:\n",
    "            file.write(f'{sub};\\n')\n",
    "\n",
    "\n",
    "groups = {\n",
    "    \"S4\": SymmetricGroup(4),\n",
    "    \"A4\": AlternatingGroup(4),\n",
    "    \"S5\": SymmetricGroup(5),\n",
    "    \"A5\": AlternatingGroup(5),\n",
    "}\n",
    "with open(\"Subgroups\", 'w') as file:\n",
    "    for group in groups:\n",
    "        file.write(f\"Subgroups for group {group}:\\n\")\n",
    "        for el in groups[group].subgroups():\n",
    "            file.write(f'{el};\\n')\n",
    "        file.write('\\n')\n"
   ]
  },
  {
   "cell_type": "markdown",
   "id": "653a9629-e757-442f-af0b-bd53b4694cff",
   "metadata": {},
   "source": [
    "## Завдання 3. \n",
    "\n",
    "__Задайте дві випадкові підстановки з групи $S_n, \\, (1 \\le n \\le 100)$. Перевірте чи є вони парними. Знайдіть порядок групи, ними породженої. Чи буде ця група дорівнювати $A_n$? $S_n$?__"
   ]
  },
  {
   "cell_type": "code",
   "execution_count": 83,
   "id": "ee732968-a661-4c26-b729-6b17b1e0a3e3",
   "metadata": {},
   "outputs": [
    {
     "name": "stdin",
     "output_type": "stream",
     "text": [
      "Enter n:  3\n",
      "Enter permutation 1:  (1, 2)\n",
      "Enter permutation 2:  (1, 3)\n"
     ]
    },
    {
     "name": "stdout",
     "output_type": "stream",
     "text": [
      "Sign of perm 1: -1\n",
      "Sign of perm 2: -1\n",
      "Order of the created group: 6\n",
      "S == S3\n",
      "S != A3\n"
     ]
    }
   ],
   "source": [
    "n = int(input(\"Enter n: \"))\n",
    "Sn = SymmetricGroup(n)\n",
    "An = AlternatingGroup(n)\n",
    "s1 = S(input(\"Enter permutation 1: \"))\n",
    "s2 = S(input(\"Enter permutation 2: \"))\n",
    "S = Sn.subgroup([s1, s2])\n",
    "print(f\"Sign of perm 1: {s1.sign()}\")\n",
    "print(f\"Sign of perm 2: {s2.sign()}\")\n",
    "print(f\"Order of the created group: {S.order()}\")\n",
    "if S == Sn:\n",
    "    print(f\"S == S{n}\")\n",
    "else:\n",
    "    print(f\"S != S{n}\")\n",
    "if S == An:\n",
    "    print(f\"S == A{n}\")\n",
    "else:\n",
    "    print(f\"S != A{n}\")"
   ]
  },
  {
   "cell_type": "markdown",
   "id": "32485aa0-d40f-4b33-a030-7d3bd7722d70",
   "metadata": {},
   "source": [
    "## Завдання 4. \n",
    "\n",
    "__Покажіть, що теорема Лагранжа працює тільки в одну сторону: знайдіть приклад групи $G$ і дільник порядку цієї групи $d$ такі, що не існує підгрупи $H < G$ порядку $d$.__\n",
    "\n",
    "___Зауваження:___ група $A_4$ не приймається"
   ]
  },
  {
   "cell_type": "code",
   "execution_count": 119,
   "id": "1391015a-a20e-41d5-b631-6251d1e69316",
   "metadata": {},
   "outputs": [
    {
     "name": "stdout",
     "output_type": "stream",
     "text": [
      "Порядок групи CyclicGroup: 10\n",
      "Підгрупи групи CyclicGroup:\n",
      "Підгрупа: ((),), Порядок: 1\n",
      "Підгрупа: ((1,6)(2,7)(3,8)(4,9)(5,10),), Порядок: 2\n",
      "Підгрупа: ((1,3,5,7,9)(2,4,6,8,10),), Порядок: 5\n",
      "Підгрупа: ((1,3,5,7,9)(2,4,6,8,10), (1,2,3,4,5,6,7,8,9,10)), Порядок: 10\n",
      "Немає підгрупи порядку 4 в CyclicGroup.\n"
     ]
    }
   ],
   "source": [
    "# Створюємо циклічну групу з 10 елементами\n",
    "CyclicGroup = CyclicPermutationGroup(10) \n",
    "\n",
    "# Виводимо порядок групи\n",
    "order_CyclicGroup = CyclicGroup.order()\n",
    "print(f\"Порядок групи CyclicGroup: {order_CyclicGroup}\")\n",
    "\n",
    "# Знаходимо всі підгрупи групи CyclicGroup\n",
    "subgroups = CyclicGroup.subgroups()\n",
    "\n",
    "# Виводимо всі підгрупи та їх порядок\n",
    "print(\"Підгрупи групи CyclicGroup:\")\n",
    "for subgroup in subgroups:\n",
    "    print(f\"Підгрупа: {subgroup.gens()}, Порядок: {subgroup.order()}\")\n",
    "\n",
    "# Перевірка наявності підгрупи порядку 4\n",
    "order_to_check = 4\n",
    "has_subgroup_of_order_4 = any(subgroup.order() == order_to_check for subgroup in subgroups)\n",
    "\n",
    "if has_subgroup_of_order_4:\n",
    "    print(f\"Є підгрупа порядку {order_to_check} в CyclicGroup.\")\n",
    "else:\n",
    "    print(f\"Немає підгрупи порядку {order_to_check} в CyclicGroup.\")\n"
   ]
  },
  {
   "cell_type": "code",
   "execution_count": null,
   "id": "21c66cfc-ab04-4d08-a4e5-6f8ce21b2162",
   "metadata": {},
   "outputs": [],
   "source": []
  }
 ],
 "metadata": {
  "kernelspec": {
   "display_name": "SageMath 10.4",
   "language": "sage",
   "name": "sagemath"
  },
  "language_info": {
   "codemirror_mode": {
    "name": "ipython",
    "version": 3
   },
   "file_extension": ".py",
   "mimetype": "text/x-python",
   "name": "python",
   "nbconvert_exporter": "python",
   "pygments_lexer": "ipython3",
   "version": "3.11.10"
  }
 },
 "nbformat": 4,
 "nbformat_minor": 5
}
